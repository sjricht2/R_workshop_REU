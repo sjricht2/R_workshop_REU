{
 "cells": [
  {
   "cell_type": "markdown",
   "metadata": {},
   "source": [
    "# Introduction to R\n",
    "##### <font color=gray>Statistical Consulting Center| University of North Carolina at Greensboro </span>\n",
    "    \n",
    "## 1. R Programming Basics\n",
    "\n",
    "From <https://www.r-project.org/>\n",
    "\n",
    "R is an integrated suite of software facilities for data manipulation, calculation and graphical display. It includes\n",
    "\n",
    "- an effective data handling and storage facility\n",
    "- a suite of operators for calculations on arrays, in particular matrices\n",
    "- a large, coherent, integrated collection of intermediate tools for data analysis\n",
    "- graphical facilities for data analysis and display\n",
    "- a well-developed, simple and effective programming language which includes conditionals, loops, user-defined recursive  functions and in-out and out-out facilities.\n",
    "\n",
    "The term \"environment\" is intended to characterize it as a fully-planned and coherent system, rather than an incremental accretion of very specific and inflexible tools, as is frequently the case with other data analysis software.\n",
    "\n",
    "--------\n",
    "\n",
    "Many users think of R as a statistics system. We prefer to think of it as an environment within which statistical techniques are implemented. R can be extended via packages. There are about eight packages supplied with the R distribution and many more are available through the CRAN family of internet sites, covering a very wide range of \"modern statistics\".\n",
    "\n",
    "In this workshop, we will learn the basics of using R for statistical analysis, including \n",
    "\n",
    "- Data file creation/acquisition\n",
    "\n",
    "- Data manipulation\n",
    "\n",
    "- Using supplied functions\n",
    "\n",
    "- Simple data analyses and graphics \n",
    "\n",
    "**We will only scratch the surface!**\n",
    "\n",
    "## 2. Setting up R\n",
    "### 2.1 Installing R\n",
    "\n",
    "The Base R and packages can be downloaded from the Comprehensive R Archive Network (CRAN) (<https://www.r-project.org/>).\n",
    "\n",
    "When you run the program, you will see the R console:\n",
    "![R Console](https://phonlab.sitehost.iu.edu/R/WebsiteImages/R%20upon%20open.PNG)\n",
    "\n",
    "-----\n",
    "### 2.2 R coding and syntax\n",
    "\n",
    "\n",
    "Commands are entered at the cursor (next to the \">\"). Unlike some other software environments that require a complete set of commands (i.e., a \"program\") be executed to perform a task, R runs interactively, and executes each command as it is entered. (For those used to writing programs in SAS or SPSS, for example, this can take some time getting used to).    \n",
    "\n",
    "For example, simple calculations can be executed:"
   ]
  },
  {
   "cell_type": "code",
   "execution_count": null,
   "metadata": {},
   "outputs": [],
   "source": [
    "2+5"
   ]
  },
  {
   "cell_type": "code",
   "execution_count": null,
   "metadata": {},
   "outputs": [],
   "source": [
    "log(7)"
   ]
  },
  {
   "cell_type": "markdown",
   "metadata": {},
   "source": [
    "If the result of a calculation is to be used in further calculations, then assign the result to an object. Notice that the result of the calculation is not shown. However, executing the object name shows the answer."
   ]
  },
  {
   "cell_type": "code",
   "execution_count": null,
   "metadata": {},
   "outputs": [],
   "source": [
    "a <- 2+5\n",
    "a"
   ]
  },
  {
   "cell_type": "code",
   "execution_count": null,
   "metadata": {},
   "outputs": [],
   "source": [
    "log.a<-log(a)\n",
    "log.a"
   ]
  },
  {
   "cell_type": "markdown",
   "metadata": {},
   "source": [
    "Consider the following series of commands (we will discuss these in more details later)."
   ]
  },
  {
   "cell_type": "code",
   "execution_count": null,
   "metadata": {},
   "outputs": [],
   "source": [
    "Data <- c(2,5,8,9,9,10,11)\n",
    "list(Data)"
   ]
  },
  {
   "cell_type": "code",
   "execution_count": null,
   "metadata": {},
   "outputs": [],
   "source": [
    "mean(Data)"
   ]
  },
  {
   "cell_type": "code",
   "execution_count": null,
   "metadata": {},
   "outputs": [],
   "source": [
    "sd(Data)"
   ]
  },
  {
   "cell_type": "markdown",
   "metadata": {},
   "source": [
    "If you simply type the first command and hit enter, it seems nothing has happened as the cursor simply moves to the next line:"
   ]
  },
  {
   "cell_type": "code",
   "execution_count": null,
   "metadata": {},
   "outputs": [],
   "source": [
    "Data <- c(2,5,8,9,9,10,11)"
   ]
  },
  {
   "cell_type": "markdown",
   "metadata": {},
   "source": [
    "However, a vector containing the six values inside the parentheses has been created. The next command shows the vector that was created:"
   ]
  },
  {
   "cell_type": "code",
   "execution_count": null,
   "metadata": {},
   "outputs": [],
   "source": [
    "Data"
   ]
  },
  {
   "cell_type": "markdown",
   "metadata": {},
   "source": [
    "or"
   ]
  },
  {
   "cell_type": "code",
   "execution_count": null,
   "metadata": {},
   "outputs": [],
   "source": [
    "list(Data)"
   ]
  },
  {
   "cell_type": "markdown",
   "metadata": {},
   "source": [
    "Now that we have the data saved as an object, we can use that object as an argument in other functions. For example, we can compute the mean and standard deviation:  "
   ]
  },
  {
   "cell_type": "code",
   "execution_count": null,
   "metadata": {},
   "outputs": [],
   "source": [
    "mean(Data)\n",
    "sd(Data)"
   ]
  },
  {
   "cell_type": "markdown",
   "metadata": {},
   "source": [
    "Finally, the **boxplot** function creates a boxplot of the data. <span style=\"color: gray;\">(The plot opens in a new window when you use a basic R console)</span>"
   ]
  },
  {
   "cell_type": "code",
   "execution_count": null,
   "metadata": {},
   "outputs": [],
   "source": [
    "boxplot(Data)"
   ]
  },
  {
   "cell_type": "markdown",
   "metadata": {},
   "source": [
    "Commands, object and variables names, functions and options are **case sensitive**. For example, recall that we created the object \"Data\" and executed the mean functions on it. Suppose we forgot that we capitalized the object name when we called the mean function:"
   ]
  },
  {
   "cell_type": "code",
   "execution_count": null,
   "metadata": {},
   "outputs": [],
   "source": [
    "Data <- c(2,5,8,9,9,10,11)\n",
    "mean(data)"
   ]
  },
  {
   "cell_type": "markdown",
   "metadata": {},
   "source": [
    "Instead of the mean you will get *NA*, because there is no such object name \"data\".\n",
    "Similarly, if you type list(data), instead of a list of the contents of the vector, we get a long, hard to decipher bunch of code that looks serious but is not particularly helpful to diagnose the cause of the problem. Thus, it bears repeating: **R is case sensitive**--it is a good idea to check for this first when things are not working as expected.\n",
    "\n",
    "---\n",
    "### 2.3 R interfaces\n",
    "Because R is interactive and wants to execute commands each time the return key is hit, many users prefer to write blocks of code outside of the console, and then import or copy and paste the entire block to excite at once in the R console. There are several options for doing this:\n",
    "1. Text editor: The simplest way to compose code is to use a text editor such as Notepad. The code can be saved as a file and then executed from inside the R console.\n",
    "\n",
    "2. R editor: From the file menu inside R, choose either *New Script* to compose new code, or *Open Script* to open saved code.\n",
    "\n",
    "3. RStudio: RStudio is a free workspace that includes a text editor window and the R console in the same window, and can also show graphics and results of executed commands. This may be the easiest way to use R and we will illustrate it's use in this workshop.  \n",
    "\n",
    "Download RStudio from:\n",
    "<https://www.rstudio.com/products/rstudio/download/>.  \n",
    "\n",
    "Other interfaces designed for R are available, but we will not cover these in this workshop.\n",
    "\n",
    "***\n",
    "When you open RStudio, you will see something similar to the image below.\n",
    "Here the console can be used as before, but with several enhancements:\n",
    "\n",
    "- Environment/History window that shows all the active objects and command history\n",
    "- A window with tabs that allows you to show all files and folders in your default workspace, see all plots created, list and install packages, and access help topics and documentation\n",
    "- An Editor window in which syntax can be composed and executed (click on the upper right corner of the console window).\n",
    "![R Studio](https://bookdown.org/gary_a_napier/induction_-_introduction_to_r/_book/images/Image2_Retry.png)\n",
    "\n",
    "---\n",
    "### 2.4 Reading data into R\n",
    "In most situations, data will be stored in an external file that will need to be read into R. The **read.table** function is a general-purpose function for reading delimited text files. Suppose the data of the previous examples is contained in a text file called \"datafile1.txt\", arranged as below, with rows corresponding to observations:\n",
    "```\n",
    "2  \n",
    "5   \n",
    "8   \n",
    "9   \n",
    "9   \n",
    "10\n",
    "```\n",
    "Then to create the data frame, use the command:\n",
    "```\n",
    "Data <- read.table(file=\"https://www.uncg.edu/mat/qms/datafile1.txt\", header=F) \n",
    "Data\n",
    "```\n",
    "Notice that forward slashes(/) are used in R to separate folders, whereas Windows uses back-slashes.\n",
    "```\n",
    "Data=read.table(file=\"https://www.uncg.edu/mat/qms/datafile1.txt\", header=F) \n",
    "Data\n",
    "```\n",
    "Now we may use functions to process the data. In the `read.table` function, the first argument is the specification of the location, `file=`, which is required. Next are two options, separated by commas. The first, `sep=\"\"`, specifies the delimiter, which in this case is a space, while the second specifies that the first row of the file does not contain variable name. If the first row contains the name of the variable, then add the option `header=TRUE` (or `header=T`).\n",
    "Note that all letters after the equal sign must be capitalized. Many other options can be specified in the `read.table` function (more on this later).\n",
    "\n",
    "---\n",
    "## 3. Statistical analysis using R\n",
    "### 3.1 Our Working data set and results\n",
    "We now consider a space-delimited data file containing several variables measured on students in an introductory statistics class.\n",
    "Students in a statistics class at The University of Queensland participated in an experiment. First, the students measured their pulse rate. They were then asked to flip a coin. If the coin came up heads, they were to run in place for one minute, otherwise they sat for one minute. Next, everyone measured their pulse rate again. The pulse rates and other physiological and lifestyle variables are given in the data file. \n",
    "Five class groups between 1993 and 1998 participated in the experiment. After the first year, their arose a concern that some students chose the less strenuous option of sitting, even if their coin came up heads. Thus, in the years 1995-1998 a different method of random assignment was used: an equal number of students were randomly assigned to either running or sitting. In 1995 and 1998 not all of the forms were returned so the numbers running and sitting was still not entirely controlled.\n",
    "- - - -\n",
    "**Variable  Description**\n",
    "\n",
    "Height :     Height (cm)  \n",
    "Weight :     Weight (kg)  \n",
    "Age  :       Age (years)  \n",
    "Gender  :    Sex (1 = M, 2 = F)  \n",
    "Smokes :     Regular smoker? (1 = yes, 2 = no)  \n",
    "Alcohol  :   Regular drinker? (1 = yes, 2 = no)  \n",
    "Exercise :   Frequency of exercise (1 = high, 2 = moderate, 3 = low)  \n",
    "Ran    :     Whether the student ran or sat between the first and second pulse measurements (1 = ran, 2 = sat)  \n",
    "Pulse1  :    First pulse measurement (rate per minute)  \n",
    "Pulse2 :     Second pulse measurement (rate per minute)  \n",
    "Year   :     Year of class (93 - 98)\n",
    "- - - -\n",
    "#### Reading the data file\n",
    "The `read.table` function discussed earlier can be used to read the file, and the `head` function to display first 5 rows of the file:"
   ]
  },
  {
   "cell_type": "code",
   "execution_count": null,
   "metadata": {},
   "outputs": [],
   "source": [
    "Pulse <- read.table(file=\"https://www.uncg.edu/mat/qms/data.txt\",header=T) \n",
    "head(Pulse,5)"
   ]
  },
  {
   "cell_type": "markdown",
   "metadata": {},
   "source": [
    "### 3.2 Research Questions\n",
    "\n",
    "**1. What is the nature and strength of the association between Pulse1 (the first pulse measurement) and certain lifestyle and physiological measurements? Are frequent exercisers fitter?**\n",
    "\n",
    "**2. Is there evidence that some students didn't run even though their coin toss came up heads?**  \n",
    "\n",
    "---\n",
    "### 3.3 Using R to generate the results\n",
    "Before we begin, it is important to check the data types of the variables, as sometimes the data type may not be what we expect (e.g., a numerical variable may be interpreted as a character or vice-versa). Thus we start by getting a summary of the variables and their types using the `str` function:"
   ]
  },
  {
   "cell_type": "code",
   "execution_count": null,
   "metadata": {},
   "outputs": [],
   "source": [
    "str(Pulse)"
   ]
  },
  {
   "cell_type": "markdown",
   "metadata": {},
   "source": [
    "Notice that the name of each column, along with the type of data and the first 10 observations are given. The variable *Gender* is listed as a factor. The rest are considered numeric.\n",
    "\n",
    "The `summary` function, when applied to a data frame, will compute the mean and 5-number summary for all numeric variables and frequencies for factors or character variables:"
   ]
  },
  {
   "cell_type": "code",
   "execution_count": null,
   "metadata": {},
   "outputs": [],
   "source": [
    "summary(Pulse)"
   ]
  },
  {
   "cell_type": "markdown",
   "metadata": {},
   "source": [
    "Notice that there are several variables treated as numeric that are actually categorical variables, such as *Smokes*, which is an indicator for whether or not the individual smoked (1 indicates the person smoked). Since it does not make sense to compute numerical summaries on such a variable, we will need to let R know to treat these as categorical when necessary. \n",
    "\n",
    "We can also select individual variables to summarize. The code below chooses only the variable *Weight* to summarize:"
   ]
  },
  {
   "cell_type": "code",
   "execution_count": null,
   "metadata": {},
   "outputs": [],
   "source": [
    "summary(Pulse$Weight)"
   ]
  },
  {
   "cell_type": "markdown",
   "metadata": {},
   "source": [
    "- - - -\n",
    "**1. What is the nature and strength of the association between Pulse1 (the first pulse measurement) and certain lifestyle and physiological measurements? Are frequent exercisers fitter?**\n",
    "**How does Pulse1 (the first pulse measurement) depend on the lifestyle and physiological measurements?**\n",
    "\n",
    "#### Explore the relationship between Pulse1 and Weight.\n",
    "\n",
    "$(a)$ **Scatterplot** of Pulse1 by Weight. The `plot` function can be used. Two different ways of specifying the variables can be employed: \n",
    "    (i) `plot(x,y)` or \n",
    "    (ii) `plot(y~x)` \n",
    "(The latter is called a *formula* argument). Thus, to obtain scatterplot, use either:"
   ]
  },
  {
   "cell_type": "code",
   "execution_count": null,
   "metadata": {},
   "outputs": [],
   "source": [
    "plot(Pulse$Weight, Pulse$Pulse1)"
   ]
  },
  {
   "cell_type": "code",
   "execution_count": null,
   "metadata": {},
   "outputs": [],
   "source": [
    "plot(Pulse$Pulse1 ~ Pulse$Weight)"
   ]
  },
  {
   "cell_type": "code",
   "execution_count": null,
   "metadata": {},
   "outputs": [],
   "source": [
    "plot(Pulse$Pulse1 ~ Pulse$Weight, data=Pulse)"
   ]
  },
  {
   "cell_type": "markdown",
   "metadata": {},
   "source": [
    "$(b)$ **Simple linear regression:** \n",
    "The `lm()` function is a general purpose function for fitting linear models. The following code fits a simple linear regression model of *Pulse1* as a function of *Weight*:"
   ]
  },
  {
   "cell_type": "code",
   "execution_count": null,
   "metadata": {},
   "outputs": [],
   "source": [
    "lm(Pulse1 ~ Weight, data=Pulse)"
   ]
  },
  {
   "cell_type": "markdown",
   "metadata": {},
   "source": [
    "The previous code produced only the estimates of the slope and intercept of the regression line. However, if we create an object to store the results of the `lm` function, many additional results can be obtained. \n",
    "\n",
    "The `summary` and `anova` functions are applied here to obtain \"typical\" results."
   ]
  },
  {
   "cell_type": "code",
   "execution_count": null,
   "metadata": {},
   "outputs": [],
   "source": [
    "reg.fit<-lm(Pulse1~Weight, data=Pulse)\n",
    "summary(reg.fit)"
   ]
  },
  {
   "cell_type": "code",
   "execution_count": null,
   "metadata": {},
   "outputs": [],
   "source": [
    "anova(reg.fit)"
   ]
  },
  {
   "cell_type": "markdown",
   "metadata": {},
   "source": [
    "Functions for generating residuals and fitted (or \"predicted\") values can also be used. The two previous plots can also be constructed using the following:  "
   ]
  },
  {
   "cell_type": "code",
   "execution_count": null,
   "metadata": {},
   "outputs": [],
   "source": [
    "fitted(reg.fit)\n",
    "residuals(reg.fit)"
   ]
  },
  {
   "cell_type": "markdown",
   "metadata": {},
   "source": [
    "For anything other than a very small data set, outputting fitted values and residuals is not practical. However, plots containing these are sometimes of interest. For example, a histogram of residuals is useful for assessing the normality assumption."
   ]
  },
  {
   "cell_type": "code",
   "execution_count": null,
   "metadata": {},
   "outputs": [],
   "source": [
    "hist(residuals(reg.fit))"
   ]
  },
  {
   "cell_type": "markdown",
   "metadata": {},
   "source": [
    "A scatterplot of residuals versus fitted values can be obtained in a similar fashion."
   ]
  },
  {
   "cell_type": "code",
   "execution_count": null,
   "metadata": {},
   "outputs": [],
   "source": [
    "plot(fitted(reg.fit), residuals(reg.fit))"
   ]
  },
  {
   "cell_type": "markdown",
   "metadata": {},
   "source": [
    "It might be helpful to assign the results of the `residual` and `fitted` functions to objects which can then be used in other functions."
   ]
  },
  {
   "cell_type": "code",
   "execution_count": null,
   "metadata": {},
   "outputs": [],
   "source": [
    "pred.values <- fitted(reg.fit)\n",
    "resid <- residuals(reg.fit)\n",
    "hist(resid)\n",
    "plot(pred.values, resid)"
   ]
  },
  {
   "cell_type": "markdown",
   "metadata": {},
   "source": [
    "$(c)$ **Pearson correlation:** The `cor` function will compute the correlation."
   ]
  },
  {
   "cell_type": "code",
   "execution_count": null,
   "metadata": {},
   "outputs": [],
   "source": [
    "cor(Pulse$Weight, Pulse$Pulse1)"
   ]
  },
  {
   "cell_type": "markdown",
   "metadata": {},
   "source": [
    "Unfortunately, this did not appear to work, since the result is `NA`. What is the problem? If we look at the data, observation 76 has a missing value for *Pulse1*. How does the `cor` function handle missing data? Let's look at the documentation.\n",
    "\n",
    "Executing either of the following commands will bring up the documentation on the `cor` function\n",
    "\n",
    " `help(cor)`\n",
    " \n",
    " `cor`\n",
    "\n",
    "or by searching for **cor** in the Help tab in RStudio. The function syntax is given below.\n",
    "\n",
    "    cor(x, y = NULL, use = \"everything\", method = c(\"pearson\", \"kendall\", \"spearman\"))\n",
    "\n",
    "What does the `use = \"everything\"` argument do? \n",
    "In the \"Arguments\" section we find\n",
    "\n",
    "**use -- an optional character string giving a method for computing covariances in the presence of missing values. This must be (an abbreviation of) one of the strings \"everything\", \"all.obs\", \"complete.obs\", \"na.or.complete\" or \"pairwise.complete.obs\"**\n",
    "        \n",
    "***\n",
    "In the \"Details\" section we find\n",
    "\n",
    "> If use is \"everything\", NAs will propagate conceptually, i.e., a resulting value will be NA whenever one of its contributing observations is NA. \n",
    "If use is \"all.obs\", then the presence of missing observations will produce an error. If use is \"complete.obs\" then missing values are handled by casewise deletion (and if there are no complete cases, that gives an error).  \n",
    "na.or.complete is the same unless there are no complete cases, that gives NA.\n",
    "Finally, if use has the value pairwise.complete.obs then the correlation or covariance between each pair of variables is computed using all complete pairs of observations on those variables. This can result in covariance or correlation matrices which are not positive semi-definite, as well as NA entries if there are no complete pairs for that pair of variables. For cov and var, pairwise.complete.obs only works with the \"pearson\" method. Note that (the equivalent of) var(double(0), use = *) gives NA for use = \"everything\" and na.or.complete, and gives an error in the other cases. \n",
    "\n",
    "Thus, by default, the `cor` function will only return a value if all pairs are nonmissing. In this case, we can fixed the problem by changing the **use** argument.\n"
   ]
  },
  {
   "cell_type": "code",
   "execution_count": null,
   "metadata": {},
   "outputs": [],
   "source": [
    "cor(Pulse$Pulse1,Pulse$Weight, use=\"pairwise.complete.obs\")"
   ]
  },
  {
   "cell_type": "markdown",
   "metadata": {},
   "source": [
    "The `cor.test` function will return a confidence interval and p-value for the test of nonzero correlation."
   ]
  },
  {
   "cell_type": "code",
   "execution_count": null,
   "metadata": {},
   "outputs": [],
   "source": [
    "cor.test(Pulse$Pulse1, Pulse$Weight, use=\"pairwise.complete.obs\")"
   ]
  },
  {
   "cell_type": "markdown",
   "metadata": {},
   "source": [
    "***\n",
    "#### Explore the relationship between the initial pulse measurement and smoking status.\n",
    "\n",
    "$(a)$ **Boxplot** of Pulse1 by smoking status. We want create two boxplots, one for smokers and one for nonsmokers. There are several ways to do this, and we will illustrate two. First, create individual boxplots for each *Smokes* category (smokers, nonsmokers). We do this by evaluating the Pulse1 variable only for observations where *Smokes* is at a single level."
   ]
  },
  {
   "cell_type": "code",
   "execution_count": null,
   "metadata": {},
   "outputs": [],
   "source": [
    "boxplot(Pulse$Pulse1[Pulse$Smokes==1])"
   ]
  },
  {
   "cell_type": "code",
   "execution_count": null,
   "metadata": {},
   "outputs": [],
   "source": [
    "boxplot(Pulse$Pulse1[Pulse$Smokes==2])"
   ]
  },
  {
   "cell_type": "markdown",
   "metadata": {},
   "source": [
    "Next, to get side-by-side plots in the same graph, we first show how to use the `factor()` function to create a new variable that transforms *Smokes* into a factor variable called Smokes.factor, and then use the function argument in the `boxplot()` function."
   ]
  },
  {
   "cell_type": "code",
   "execution_count": null,
   "metadata": {},
   "outputs": [],
   "source": [
    "Pulse$Smokes.factor <- factor(Pulse$Smokes)"
   ]
  },
  {
   "cell_type": "markdown",
   "metadata": {},
   "source": [
    "Now, creat the boxplot"
   ]
  },
  {
   "cell_type": "code",
   "execution_count": null,
   "metadata": {},
   "outputs": [],
   "source": [
    "boxplot(Pulse1 ~ Smokes, data=Pulse)"
   ]
  },
  {
   "cell_type": "markdown",
   "metadata": {},
   "source": [
    "While the factor function creates a new factor variable, it still uses the original values. Optional arguments can be added to create more descriptive labels:"
   ]
  },
  {
   "cell_type": "code",
   "execution_count": null,
   "metadata": {},
   "outputs": [],
   "source": [
    "Pulse$Smokes.factor <- factor(Pulse$Smokes,levels=c(1,2),labels=c(\"Y\",\"N\"))"
   ]
  },
  {
   "cell_type": "markdown",
   "metadata": {},
   "source": [
    "The boxplot will now use the newly defined labels."
   ]
  },
  {
   "cell_type": "code",
   "execution_count": null,
   "metadata": {},
   "outputs": [],
   "source": [
    "boxplot(Pulse$Pulse1 ~ Pulse$Smokes.factor)"
   ]
  },
  {
   "cell_type": "markdown",
   "metadata": {},
   "source": [
    "$(b)$ **Descriptives**\n",
    "\n",
    "We will also want to compute descriptive measures, such as the mean and standard deviation of Pulse1 for each group."
   ]
  },
  {
   "cell_type": "code",
   "execution_count": null,
   "metadata": {},
   "outputs": [],
   "source": [
    "mean(Pulse$Pulse1[Pulse$Smokes==1])\n",
    "sd(Pulse$Pulse1[Pulse$Smokes==1])\n",
    "mean(Pulse$Pulse1[Pulse$Smokes==2])\n",
    "sd(Pulse$Pulse1[Pulse$Smokes==2])"
   ]
  },
  {
   "cell_type": "markdown",
   "metadata": {},
   "source": [
    "Notice that we encounter a problem caused by the missing observation. We find in the documentation of the `mean` function:\n",
    "\n",
    "    mean(x,trim=0,na.rm=FALSE, ...)\n",
    "\n",
    "na.rm - \"a logical value indicating whether NA values should be stripped before the computation proceeds\"\n",
    "\n",
    "This suggests the following fix for the NonSmoker group:"
   ]
  },
  {
   "cell_type": "code",
   "execution_count": null,
   "metadata": {},
   "outputs": [],
   "source": [
    "mean(Pulse$Pulse1[Pulse$Smokes==2], na.rm=T)\n",
    "sd(Pulse$Pulse1[Pulse$Smokes==2], na.rm=T)"
   ]
  },
  {
   "cell_type": "markdown",
   "metadata": {},
   "source": [
    "As an alternative to calculating values for each category separately, a single call to the `tapply` function, using the Smokes.factor variable, will provide results as follows:\n",
    "Notice we again use the na.rm argument,"
   ]
  },
  {
   "cell_type": "code",
   "execution_count": null,
   "metadata": {},
   "outputs": [],
   "source": [
    "tapply(Pulse$Pulse1,Pulse$Smokes.factor, FUN=mean, na.rm=T)"
   ]
  },
  {
   "cell_type": "markdown",
   "metadata": {},
   "source": [
    "$(c)$ **t-test**\n",
    "\n",
    "The `t.test` function will compute a confidence interval for the mean difference and a *p*-value for a test of nonzero difference. We again employ the function argument to specify the variables"
   ]
  },
  {
   "cell_type": "code",
   "execution_count": null,
   "metadata": {},
   "outputs": [],
   "source": [
    "t.test(Pulse$Pulse1~Pulse$Smokes.factor)"
   ]
  },
  {
   "cell_type": "markdown",
   "metadata": {},
   "source": [
    "By default, a two-sided *p*-value is reported, and equal population variances are not assumed (the Smith/Welch/Satterthwaite method).\n",
    "\n",
    "The code below requests the pooled (equal variances assumed) and also requests a one-sided *p*-value:"
   ]
  },
  {
   "cell_type": "code",
   "execution_count": null,
   "metadata": {},
   "outputs": [],
   "source": [
    "t.test(Pulse$Pulse1 ~ Pulse$Smokes.factor, alternative = \"greater\",var.equal = T)"
   ]
  },
  {
   "cell_type": "markdown",
   "metadata": {},
   "source": [
    "- - - - \n",
    "\n",
    "#### Is there evidence that some students didn't run even though their coin toss came up heads? In particular, \"Is there evidence that fewer than 50% would be selected to run?\"\n",
    "\n",
    "$(a)$ **Frequencies and proportions**\n",
    "\n",
    "The `table` function computes frequencies and crosstabs. We first create a new factor variable for the Ran variable. It will be helpful to save the result of the `table()` function as an object:"
   ]
  },
  {
   "cell_type": "code",
   "execution_count": null,
   "metadata": {},
   "outputs": [],
   "source": [
    "Pulse$Ran.factor <- factor(Pulse$Ran, levels=c(1,2), labels=c(\"Y\", \"N\"))\n",
    "ran.counts <- table(Pulse$Ran.factor)\n",
    "ran.counts"
   ]
  },
  {
   "cell_type": "markdown",
   "metadata": {},
   "source": [
    "The `prop.table()` function uses the object containing the counts to calculate proportions:"
   ]
  },
  {
   "cell_type": "code",
   "execution_count": null,
   "metadata": {},
   "outputs": [],
   "source": [
    "prop.table(ran.counts)"
   ]
  },
  {
   "cell_type": "markdown",
   "metadata": {},
   "source": [
    "$(b)$ **Test for proportion**\n",
    "\n",
    "The `prop.test()` function, which has arguments similar to `t.test()`, can be used to compute a confidence interval for the proportion of students that ran between measurements. The function takes as arguments the number of successes and the sample size, which are calculated using the `length()` and `sum()*` functions:"
   ]
  },
  {
   "cell_type": "code",
   "execution_count": null,
   "metadata": {},
   "outputs": [],
   "source": [
    "n <- length(Pulse$Ran.factor)\n",
    "success <- sum(Pulse$Ran.factor == \"Y\")\n",
    "prop.test(success, n, alternative=\"less\")"
   ]
  },
  {
   "cell_type": "markdown",
   "metadata": {},
   "source": [
    "- - - - \n",
    "#### Does the proportion who ran between measurements depend on year?\n",
    "\n",
    "$(a)$ **Crosstabs, bar charts, chi-squared test**\n",
    "\n",
    "The `table()` function can create crosstabulations for two or more variables. Here we calculate a 2-way table of Ran by Year:"
   ]
  },
  {
   "cell_type": "code",
   "execution_count": null,
   "metadata": {},
   "outputs": [],
   "source": [
    "Year.table<-table(Pulse$Year,Pulse$Ran.factor) \n",
    "Year.table"
   ]
  },
  {
   "cell_type": "markdown",
   "metadata": {},
   "source": [
    "As before, the `prop.table()` function can calculate proportions. For two-way tables, however, there are several different proportions possible for each cell, based on row, column or overall totals. The default is to divide counts by the overall sample size:"
   ]
  },
  {
   "cell_type": "code",
   "execution_count": null,
   "metadata": {},
   "outputs": [],
   "source": [
    "prop.table(Year.table)"
   ]
  },
  {
   "cell_type": "markdown",
   "metadata": {},
   "source": [
    "To obtain marginal proportions, we can specify the \"margin=\" argument, where \"1\" requests row marginals (divide counts by row totals) and \"2\" column marginals (divide counts by column totals). For the purposes of the research question, dividing counts by Year totals would be most useful.\n",
    "\n",
    "Since Year was listed first in the `table()` function, it will be treated by R as the row variable, as thus the code below requests row marginal proportions:"
   ]
  },
  {
   "cell_type": "code",
   "execution_count": null,
   "metadata": {},
   "outputs": [],
   "source": [
    "prop.table(Year.table,margin=1)"
   ]
  },
  {
   "cell_type": "markdown",
   "metadata": {},
   "source": [
    "$(b)$ **Test for independence**\n",
    "\n",
    "The `chisq.test()` function will compute a test for independence of Ran.factor and Year:"
   ]
  },
  {
   "cell_type": "code",
   "execution_count": null,
   "metadata": {},
   "outputs": [],
   "source": [
    "chisq.test(Year.table)"
   ]
  },
  {
   "cell_type": "markdown",
   "metadata": {},
   "source": [
    "$(c)$ **Plots**\n",
    "\n",
    "Bar charts can be useful for displaying categorical data. We first illustrate the `barplot` function for Ran.factor for just 1993."
   ]
  },
  {
   "cell_type": "code",
   "execution_count": null,
   "metadata": {},
   "outputs": [],
   "source": [
    "Year93.table<-table(Pulse$Year[Pulse$Year==93],Pulse$Ran.factor[Pulse$Year==93])\n",
    "Year93.table"
   ]
  },
  {
   "cell_type": "code",
   "execution_count": null,
   "metadata": {},
   "outputs": [],
   "source": [
    "barplot(Year93.table)"
   ]
  },
  {
   "cell_type": "markdown",
   "metadata": {},
   "source": [
    "**Side-by-side plots**  \n",
    "\n",
    "Next, side-by-side plots comparing all years are created."
   ]
  },
  {
   "cell_type": "code",
   "execution_count": null,
   "metadata": {},
   "outputs": [],
   "source": [
    "Year.table<-table(Pulse$Year,Pulse$Ran.factor)\n",
    "Year.table"
   ]
  },
  {
   "cell_type": "code",
   "execution_count": null,
   "metadata": {},
   "outputs": [],
   "source": [
    "barplot(Year.table,xlab=\"Ran\",ylab=\"Count\",main=\"Ran(Y/N) for all\n",
    "        Years\",beside=TRUE,col=grey.colors(5))\n",
    "legend(\"topleft\",fill =grey.colors(5),legend=rownames(Year.table))"
   ]
  },
  {
   "cell_type": "markdown",
   "metadata": {},
   "source": [
    "We will create a new categorical variable for Year 93 using the function `ifelse()` then will create a new table to compare year 1993 with other years versus Ran.factor,"
   ]
  },
  {
   "cell_type": "code",
   "execution_count": null,
   "metadata": {},
   "outputs": [],
   "source": [
    "Pulse$Year.93 <- ifelse(Pulse$Year==93, 93, \"other\")\n",
    "Year.table.93 <-table(Pulse$Year.93, Pulse$Ran.factor)\n",
    "Year.table.93"
   ]
  },
  {
   "cell_type": "markdown",
   "metadata": {},
   "source": [
    "$(d)$ **Test for independence**  \n",
    "\n",
    "Finally, the `chisq.test()` function will compute a test for independence of Ran.factor and **Year.93**:  "
   ]
  },
  {
   "cell_type": "code",
   "execution_count": null,
   "metadata": {},
   "outputs": [],
   "source": [
    "chisq.test(Year.table.93)"
   ]
  },
  {
   "cell_type": "markdown",
   "metadata": {},
   "source": [
    "### Installing packages  \n",
    "\n",
    "While we were able to perform the desired analyses using the packages included in the Base install of R, it was somewhat tedious. There are many additional *packages* with functions tailored to specific types of analyses. For instance, the `CrossTabs` function in the *gmodels* package has the ability to do all of the analyses in this section (and more) in a single step.  \n",
    "\n",
    "The `install.packages` function can be used to download the required package from CRAN and install the package locally. (Alternatively, choose \"Install\" within the \"Package\" tab in RStudio.) We will then have to make the package available using the `library` function.\n",
    "\n",
    "- First, install *gmodels*.\n",
    "\n",
    "    >install.packages(\"gmodels\")\n",
    "\n",
    "  Note: You only need to do this one time.\n",
    "\n",
    "- Then use the `library` function to make the package available for the current R session."
   ]
  },
  {
   "cell_type": "code",
   "execution_count": null,
   "metadata": {},
   "outputs": [],
   "source": [
    "install.packages(\"gmodels\")\n",
    "library(gmodels)"
   ]
  },
  {
   "cell_type": "markdown",
   "metadata": {},
   "source": [
    "Once the `library` function is executed, any documentation associated with the *gmodels* package will be available. Searching for help as before on the `CrossTable` function reveals the following information.\n",
    "> CrossTable(x, y, digits = 3, max.width = 5, expected = FALSE,prop.r = TRUE, prop.c = TRUE, prop.t = TRUE,  prop.chisq = TRUE, chisq = FALSE, fisher = FALSE,mcnemar = FALSE, resid = FALSE, sresid = FALSE,asresid = FALSE, missing.include = FALSE,format = c(\"SAS\", \"SPSS\"), dnn = NULL, ...)\n",
    "\n",
    "Now we use `Crosstable` to create the previous results."
   ]
  },
  {
   "cell_type": "code",
   "execution_count": null,
   "metadata": {},
   "outputs": [],
   "source": [
    "CrossTable(Pulse$Year, Pulse$Ran, prop.t = T, \n",
    "           prop.c = F,\tprop.chisq = F, chisq = T)"
   ]
  },
  {
   "cell_type": "code",
   "execution_count": null,
   "metadata": {},
   "outputs": [],
   "source": [
    "CrossTable(Pulse$Year.93, Pulse$Ran, prop.t = T, \n",
    "           prop.c = F,\tprop.chisq = F, chisq = T)"
   ]
  },
  {
   "cell_type": "markdown",
   "metadata": {},
   "source": [
    "# Try Yourself\n",
    "If you would like to try something by yourself, you can always click the `+` button on the menu bar to add more cells and start typing."
   ]
  },
  {
   "cell_type": "code",
   "execution_count": null,
   "metadata": {},
   "outputs": [],
   "source": []
  },
  {
   "cell_type": "code",
   "execution_count": null,
   "metadata": {},
   "outputs": [],
   "source": []
  },
  {
   "cell_type": "code",
   "execution_count": null,
   "metadata": {},
   "outputs": [],
   "source": []
  },
  {
   "cell_type": "code",
   "execution_count": null,
   "metadata": {},
   "outputs": [],
   "source": []
  },
  {
   "cell_type": "code",
   "execution_count": null,
   "metadata": {},
   "outputs": [],
   "source": []
  },
  {
   "cell_type": "code",
   "execution_count": null,
   "metadata": {},
   "outputs": [],
   "source": []
  },
  {
   "cell_type": "code",
   "execution_count": null,
   "metadata": {},
   "outputs": [],
   "source": []
  },
  {
   "cell_type": "code",
   "execution_count": null,
   "metadata": {},
   "outputs": [],
   "source": []
  },
  {
   "cell_type": "code",
   "execution_count": null,
   "metadata": {},
   "outputs": [],
   "source": []
  },
  {
   "cell_type": "code",
   "execution_count": null,
   "metadata": {},
   "outputs": [],
   "source": []
  },
  {
   "cell_type": "code",
   "execution_count": null,
   "metadata": {},
   "outputs": [],
   "source": []
  },
  {
   "cell_type": "code",
   "execution_count": null,
   "metadata": {},
   "outputs": [],
   "source": []
  },
  {
   "cell_type": "code",
   "execution_count": null,
   "metadata": {},
   "outputs": [],
   "source": []
  },
  {
   "cell_type": "code",
   "execution_count": null,
   "metadata": {},
   "outputs": [],
   "source": []
  },
  {
   "cell_type": "code",
   "execution_count": null,
   "metadata": {},
   "outputs": [],
   "source": []
  },
  {
   "cell_type": "code",
   "execution_count": null,
   "metadata": {},
   "outputs": [],
   "source": []
  },
  {
   "cell_type": "code",
   "execution_count": null,
   "metadata": {},
   "outputs": [],
   "source": []
  },
  {
   "cell_type": "code",
   "execution_count": null,
   "metadata": {},
   "outputs": [],
   "source": []
  },
  {
   "cell_type": "code",
   "execution_count": null,
   "metadata": {},
   "outputs": [],
   "source": []
  }
 ],
 "metadata": {
  "kernelspec": {
   "display_name": "R",
   "language": "R",
   "name": "ir"
  },
  "language_info": {
   "codemirror_mode": "r",
   "file_extension": ".r",
   "mimetype": "text/x-r-source",
   "name": "R",
   "pygments_lexer": "r",
   "version": "3.4.1"
  }
 },
 "nbformat": 4,
 "nbformat_minor": 2
}
